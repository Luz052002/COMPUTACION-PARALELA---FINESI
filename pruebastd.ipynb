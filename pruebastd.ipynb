{
 "cells": [
  {
   "cell_type": "code",
   "execution_count": 7,
   "metadata": {},
   "outputs": [
    {
     "name": "stdout",
     "output_type": "stream",
     "text": [
      "   concurrente  paralelo\n",
      "0       0.0011     3.757\n",
      "1       0.0020     3.668\n",
      "2       0.0000     3.497\n",
      "3       0.0020     3.752\n",
      "4       0.0019     3.861\n"
     ]
    }
   ],
   "source": [
    "import pandas as pd\n",
    "from scipy import stats\n",
    "tiempos_concurrente = [0.0011, 0.0020, 0.0000, 0.0020, 0.0019]\n",
    "tiempos_paralelo = [3.757, 3.668, 3.497, 3.752, 3.861]\n",
    "datos = pd.DataFrame({'concurrente': tiempos_concurrente, 'paralelo': tiempos_paralelo})\n",
    "print(datos)"
   ]
  },
  {
   "cell_type": "code",
   "execution_count": 5,
   "metadata": {},
   "outputs": [
    {
     "name": "stdout",
     "output_type": "stream",
     "text": [
      "TtestResult(statistic=-61.27435933169421, pvalue=4.248791146381448e-07, df=4)\n"
     ]
    }
   ],
   "source": [
    "resultado = stats.ttest_rel(datos['concurrente'], datos['paralelo'])\n",
    "print(resultado)"
   ]
  },
  {
   "cell_type": "code",
   "execution_count": 6,
   "metadata": {},
   "outputs": [
    {
     "name": "stdout",
     "output_type": "stream",
     "text": [
      "Hay una diferencia significativa entre los tiempos medios de ejecución de los dos algoritmos.\n",
      "El algoritmo concurrente es más rápido en promedio.\n"
     ]
    }
   ],
   "source": [
    "# Evaluar el valor p\n",
    "if resultado.pvalue < 0.05:\n",
    "    print(\"Hay una diferencia significativa entre los tiempos medios de ejecución de los dos algoritmos.\")\n",
    "    \n",
    "    if datos['concurrente'].mean() < datos['paralelo'].mean():\n",
    "        print(\"El algoritmo concurrente es más rápido en promedio.\")\n",
    "    else:\n",
    "        print(\"El algoritmo paralelo es más rápido en promedio.\")\n",
    "else:\n",
    "    print(\"No hay una diferencia significativa entre los tiempos medios de ejecución de los dos algoritmos.\")"
   ]
  }
 ],
 "metadata": {
  "kernelspec": {
   "display_name": "Python 3",
   "language": "python",
   "name": "python3"
  },
  "language_info": {
   "codemirror_mode": {
    "name": "ipython",
    "version": 3
   },
   "file_extension": ".py",
   "mimetype": "text/x-python",
   "name": "python",
   "nbconvert_exporter": "python",
   "pygments_lexer": "ipython3",
   "version": "3.11.2"
  }
 },
 "nbformat": 4,
 "nbformat_minor": 2
}
